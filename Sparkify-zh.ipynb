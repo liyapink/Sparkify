{
 "cells": [
  {
   "cell_type": "markdown",
   "metadata": {},
   "source": [
    "# Sparkify 项目 Workspace\n",
    "\n",
    "预测用户流失率是数据科学家和分析师在面向消费者的一类公司中经常遇到的一项具有挑战性的问题。\n",
    "\n",
    "本项目中，我们将尝试对在线音乐服务Sparkify的日志数据进行分析，以便有效预测用户流失情况。\n",
    "\n",
    "所谓流失用户，我们通常定义为从收费用户降级至免费用户，以及直接取消服务的用户，这两部分用户也很可能有重合。本项目中，我们只对取消服务的用户作分析，即若用户日志的`page`字段中包含`Cancellation Confirmation`事件，我们就标记他们为流失用户（churn）。\n",
    "\n",
    "我们的目标是从日志数据中抽取特征以建立一个模型，并拿它来预测测试集中的用户标签（churn），并和实际的标签对比。如果预测的结果至少优于基准值（Baseline），我们就可以认为这个模型是有用的。而若能得出有效预测，Sparkify平台就能够赶在用户取消服务之前给他们提供折扣或激励，以此降低流失率。\n",
    "\n",
    "以下是本项目主要模块：\n",
    "\n",
    "1.\t加载和清洗数据\n",
    "2.\t探索性数据分析\n",
    "3.\t建立特征和标签\n",
    "4.\t训练和评估模型\n",
    "5.\t选择最优模型并调参\n",
    "6.  解读\n",
    "\n",
    "在探索性数据分析阶段，我们将主要使用可视化的方法对可能的影响因素逐一分析，以期找出流失和非流失用户表现不同的因素。因为待处理的数据量非常大，我们需要用到大数据工具 pyspark。\n",
    "\n",
    "接下来我们就可以将候选因素作为`feature`、流失用户标签作为`label`建立模型，按 8:1:1 划分训练、验证和测试数据集，然后使用逻辑回归等多个机器学习模型，在训练集和验证集上进行训练，并对比训练结果（这里我们选用F1-Score为主要参考指标）。\n",
    "\n",
    "最后对选中的模型进行调参，并在测试集上进行验证，以期获得最佳预测结果。同时我们也可以找出对用户流失影响最大的几个因素，看看他们是否与直觉相符。\n"
   ]
  },
  {
   "cell_type": "code",
   "execution_count": 2,
   "metadata": {},
   "outputs": [],
   "source": [
    "# import general libraries\n",
    "import datetime\n",
    "import pandas as pd\n",
    "import numpy as np\n",
    "import matplotlib.pyplot as plt\n",
    "import seaborn as sns\n",
    "import time\n",
    "\n",
    "# import pyspark libraries\n",
    "from pyspark.sql import SparkSession\n",
    "from pyspark.sql.functions import udf, col, date_format, desc, max, min, round, expr, lit\n",
    "from pyspark.sql.types import IntegerType\n",
    "\n",
    "# import machine learning libraries\n",
    "from pyspark.ml import Pipeline\n",
    "from pyspark.ml.feature import StandardScaler, VectorAssembler, Normalizer\n",
    "from pyspark.ml.regression import LinearRegression\n",
    "from pyspark.ml.classification import LogisticRegression, RandomForestClassifier, GBTClassifier, LinearSVC, NaiveBayes\n",
    "from pyspark.ml.evaluation import MulticlassClassificationEvaluator\n",
    "from pyspark.ml.tuning import CrossValidator, ParamGridBuilder"
   ]
  },
  {
   "cell_type": "code",
   "execution_count": 3,
   "metadata": {},
   "outputs": [],
   "source": [
    "# create a Spark session\n",
    "spark = SparkSession \\\n",
    "    .builder \\\n",
    "    .appName('mini_sparkify_event_data') \\\n",
    "    .getOrCreate()"
   ]
  },
  {
   "cell_type": "markdown",
   "metadata": {},
   "source": [
    "# 加载和清洗数据\n",
    "完整的 Sparkify 日志数据集大小为 12GB，这里我们使用它的一个 128MB 的迷你子集`mini_sparkify_event_data.json`来进行分析。  \n",
    "先加载和清洗数据集，并检查是否有无效或缺失数据"
   ]
  },
  {
   "cell_type": "markdown",
   "metadata": {},
   "source": [
    "## 加载数据"
   ]
  },
  {
   "cell_type": "code",
   "execution_count": 4,
   "metadata": {},
   "outputs": [],
   "source": [
    "path = ('mini_sparkify_event_data.json')\n",
    "df = spark.read.json(path)"
   ]
  },
  {
   "cell_type": "markdown",
   "metadata": {},
   "source": [
    "### 观察数据"
   ]
  },
  {
   "cell_type": "code",
   "execution_count": 5,
   "metadata": {},
   "outputs": [
    {
     "name": "stdout",
     "output_type": "stream",
     "text": [
      "root\n",
      " |-- artist: string (nullable = true)\n",
      " |-- auth: string (nullable = true)\n",
      " |-- firstName: string (nullable = true)\n",
      " |-- gender: string (nullable = true)\n",
      " |-- itemInSession: long (nullable = true)\n",
      " |-- lastName: string (nullable = true)\n",
      " |-- length: double (nullable = true)\n",
      " |-- level: string (nullable = true)\n",
      " |-- location: string (nullable = true)\n",
      " |-- method: string (nullable = true)\n",
      " |-- page: string (nullable = true)\n",
      " |-- registration: long (nullable = true)\n",
      " |-- sessionId: long (nullable = true)\n",
      " |-- song: string (nullable = true)\n",
      " |-- status: long (nullable = true)\n",
      " |-- ts: long (nullable = true)\n",
      " |-- userAgent: string (nullable = true)\n",
      " |-- userId: string (nullable = true)\n",
      "\n"
     ]
    }
   ],
   "source": [
    "# 字段及其数据类型一览\n",
    "# 其中包括数个日期字段（如ts）需要转化为日期格式\n",
    "df.printSchema()"
   ]
  },
  {
   "cell_type": "code",
   "execution_count": 33,
   "metadata": {},
   "outputs": [
    {
     "data": {
      "text/html": [
       "<div>\n",
       "<style scoped>\n",
       "    .dataframe tbody tr th:only-of-type {\n",
       "        vertical-align: middle;\n",
       "    }\n",
       "\n",
       "    .dataframe tbody tr th {\n",
       "        vertical-align: top;\n",
       "    }\n",
       "\n",
       "    .dataframe thead th {\n",
       "        text-align: right;\n",
       "    }\n",
       "</style>\n",
       "<table border=\"1\" class=\"dataframe\">\n",
       "  <thead>\n",
       "    <tr style=\"text-align: right;\">\n",
       "      <th></th>\n",
       "      <th>artist</th>\n",
       "      <th>auth</th>\n",
       "      <th>firstName</th>\n",
       "      <th>gender</th>\n",
       "      <th>itemInSession</th>\n",
       "      <th>lastName</th>\n",
       "      <th>length</th>\n",
       "      <th>level</th>\n",
       "      <th>location</th>\n",
       "      <th>method</th>\n",
       "      <th>page</th>\n",
       "      <th>registration</th>\n",
       "      <th>sessionId</th>\n",
       "      <th>song</th>\n",
       "      <th>status</th>\n",
       "      <th>ts</th>\n",
       "      <th>userAgent</th>\n",
       "      <th>userId</th>\n",
       "    </tr>\n",
       "  </thead>\n",
       "  <tbody>\n",
       "    <tr>\n",
       "      <th>0</th>\n",
       "      <td>Martha Tilston</td>\n",
       "      <td>Logged In</td>\n",
       "      <td>Colin</td>\n",
       "      <td>M</td>\n",
       "      <td>50</td>\n",
       "      <td>Freeman</td>\n",
       "      <td>277.89016</td>\n",
       "      <td>paid</td>\n",
       "      <td>Bakersfield, CA</td>\n",
       "      <td>PUT</td>\n",
       "      <td>NextSong</td>\n",
       "      <td>1538173362000</td>\n",
       "      <td>29</td>\n",
       "      <td>Rockpools</td>\n",
       "      <td>200</td>\n",
       "      <td>1538352117000</td>\n",
       "      <td>Mozilla/5.0 (Windows NT 6.1; WOW64; rv:31.0) G...</td>\n",
       "      <td>30</td>\n",
       "    </tr>\n",
       "    <tr>\n",
       "      <th>1</th>\n",
       "      <td>Five Iron Frenzy</td>\n",
       "      <td>Logged In</td>\n",
       "      <td>Micah</td>\n",
       "      <td>M</td>\n",
       "      <td>79</td>\n",
       "      <td>Long</td>\n",
       "      <td>236.09424</td>\n",
       "      <td>free</td>\n",
       "      <td>Boston-Cambridge-Newton, MA-NH</td>\n",
       "      <td>PUT</td>\n",
       "      <td>NextSong</td>\n",
       "      <td>1538331630000</td>\n",
       "      <td>8</td>\n",
       "      <td>Canada</td>\n",
       "      <td>200</td>\n",
       "      <td>1538352180000</td>\n",
       "      <td>\"Mozilla/5.0 (Windows NT 6.1; WOW64) AppleWebK...</td>\n",
       "      <td>9</td>\n",
       "    </tr>\n",
       "    <tr>\n",
       "      <th>2</th>\n",
       "      <td>Adam Lambert</td>\n",
       "      <td>Logged In</td>\n",
       "      <td>Colin</td>\n",
       "      <td>M</td>\n",
       "      <td>51</td>\n",
       "      <td>Freeman</td>\n",
       "      <td>282.82730</td>\n",
       "      <td>paid</td>\n",
       "      <td>Bakersfield, CA</td>\n",
       "      <td>PUT</td>\n",
       "      <td>NextSong</td>\n",
       "      <td>1538173362000</td>\n",
       "      <td>29</td>\n",
       "      <td>Time For Miracles</td>\n",
       "      <td>200</td>\n",
       "      <td>1538352394000</td>\n",
       "      <td>Mozilla/5.0 (Windows NT 6.1; WOW64; rv:31.0) G...</td>\n",
       "      <td>30</td>\n",
       "    </tr>\n",
       "    <tr>\n",
       "      <th>3</th>\n",
       "      <td>Enigma</td>\n",
       "      <td>Logged In</td>\n",
       "      <td>Micah</td>\n",
       "      <td>M</td>\n",
       "      <td>80</td>\n",
       "      <td>Long</td>\n",
       "      <td>262.71302</td>\n",
       "      <td>free</td>\n",
       "      <td>Boston-Cambridge-Newton, MA-NH</td>\n",
       "      <td>PUT</td>\n",
       "      <td>NextSong</td>\n",
       "      <td>1538331630000</td>\n",
       "      <td>8</td>\n",
       "      <td>Knocking On Forbidden Doors</td>\n",
       "      <td>200</td>\n",
       "      <td>1538352416000</td>\n",
       "      <td>\"Mozilla/5.0 (Windows NT 6.1; WOW64) AppleWebK...</td>\n",
       "      <td>9</td>\n",
       "    </tr>\n",
       "    <tr>\n",
       "      <th>4</th>\n",
       "      <td>Daft Punk</td>\n",
       "      <td>Logged In</td>\n",
       "      <td>Colin</td>\n",
       "      <td>M</td>\n",
       "      <td>52</td>\n",
       "      <td>Freeman</td>\n",
       "      <td>223.60771</td>\n",
       "      <td>paid</td>\n",
       "      <td>Bakersfield, CA</td>\n",
       "      <td>PUT</td>\n",
       "      <td>NextSong</td>\n",
       "      <td>1538173362000</td>\n",
       "      <td>29</td>\n",
       "      <td>Harder Better Faster Stronger</td>\n",
       "      <td>200</td>\n",
       "      <td>1538352676000</td>\n",
       "      <td>Mozilla/5.0 (Windows NT 6.1; WOW64; rv:31.0) G...</td>\n",
       "      <td>30</td>\n",
       "    </tr>\n",
       "  </tbody>\n",
       "</table>\n",
       "</div>"
      ],
      "text/plain": [
       "             artist       auth firstName gender  itemInSession lastName  \\\n",
       "0    Martha Tilston  Logged In     Colin      M             50  Freeman   \n",
       "1  Five Iron Frenzy  Logged In     Micah      M             79     Long   \n",
       "2      Adam Lambert  Logged In     Colin      M             51  Freeman   \n",
       "3            Enigma  Logged In     Micah      M             80     Long   \n",
       "4         Daft Punk  Logged In     Colin      M             52  Freeman   \n",
       "\n",
       "      length level                        location method      page  \\\n",
       "0  277.89016  paid                 Bakersfield, CA    PUT  NextSong   \n",
       "1  236.09424  free  Boston-Cambridge-Newton, MA-NH    PUT  NextSong   \n",
       "2  282.82730  paid                 Bakersfield, CA    PUT  NextSong   \n",
       "3  262.71302  free  Boston-Cambridge-Newton, MA-NH    PUT  NextSong   \n",
       "4  223.60771  paid                 Bakersfield, CA    PUT  NextSong   \n",
       "\n",
       "    registration  sessionId                           song  status  \\\n",
       "0  1538173362000         29                      Rockpools     200   \n",
       "1  1538331630000          8                         Canada     200   \n",
       "2  1538173362000         29              Time For Miracles     200   \n",
       "3  1538331630000          8    Knocking On Forbidden Doors     200   \n",
       "4  1538173362000         29  Harder Better Faster Stronger     200   \n",
       "\n",
       "              ts                                          userAgent userId  \n",
       "0  1538352117000  Mozilla/5.0 (Windows NT 6.1; WOW64; rv:31.0) G...     30  \n",
       "1  1538352180000  \"Mozilla/5.0 (Windows NT 6.1; WOW64) AppleWebK...      9  \n",
       "2  1538352394000  Mozilla/5.0 (Windows NT 6.1; WOW64; rv:31.0) G...     30  \n",
       "3  1538352416000  \"Mozilla/5.0 (Windows NT 6.1; WOW64) AppleWebK...      9  \n",
       "4  1538352676000  Mozilla/5.0 (Windows NT 6.1; WOW64; rv:31.0) G...     30  "
      ]
     },
     "execution_count": 33,
     "metadata": {},
     "output_type": "execute_result"
    }
   ],
   "source": [
    "df.limit(5).toPandas()"
   ]
  },
  {
   "cell_type": "markdown",
   "metadata": {},
   "source": [
    "### 查看重要特征\n",
    "计数、唯一值、空值、空白值(' ')"
   ]
  },
  {
   "cell_type": "code",
   "execution_count": 37,
   "metadata": {},
   "outputs": [
    {
     "data": {
      "text/html": [
       "<div>\n",
       "<style scoped>\n",
       "    .dataframe tbody tr th:only-of-type {\n",
       "        vertical-align: middle;\n",
       "    }\n",
       "\n",
       "    .dataframe tbody tr th {\n",
       "        vertical-align: top;\n",
       "    }\n",
       "\n",
       "    .dataframe thead th {\n",
       "        text-align: right;\n",
       "    }\n",
       "</style>\n",
       "<table border=\"1\" class=\"dataframe\">\n",
       "  <thead>\n",
       "    <tr style=\"text-align: right;\">\n",
       "      <th></th>\n",
       "      <th>Count</th>\n",
       "      <th>Distinct</th>\n",
       "      <th>NaN</th>\n",
       "      <th>Blank</th>\n",
       "    </tr>\n",
       "  </thead>\n",
       "  <tbody>\n",
       "    <tr>\n",
       "      <th>artist</th>\n",
       "      <td>286500</td>\n",
       "      <td>17656</td>\n",
       "      <td>58392</td>\n",
       "      <td>0</td>\n",
       "    </tr>\n",
       "    <tr>\n",
       "      <th>auth</th>\n",
       "      <td>286500</td>\n",
       "      <td>4</td>\n",
       "      <td>0</td>\n",
       "      <td>0</td>\n",
       "    </tr>\n",
       "    <tr>\n",
       "      <th>firstName</th>\n",
       "      <td>286500</td>\n",
       "      <td>190</td>\n",
       "      <td>8346</td>\n",
       "      <td>0</td>\n",
       "    </tr>\n",
       "    <tr>\n",
       "      <th>gender</th>\n",
       "      <td>286500</td>\n",
       "      <td>3</td>\n",
       "      <td>8346</td>\n",
       "      <td>0</td>\n",
       "    </tr>\n",
       "    <tr>\n",
       "      <th>itemInSession</th>\n",
       "      <td>286500</td>\n",
       "      <td>1322</td>\n",
       "      <td>0</td>\n",
       "      <td>0</td>\n",
       "    </tr>\n",
       "    <tr>\n",
       "      <th>lastName</th>\n",
       "      <td>286500</td>\n",
       "      <td>174</td>\n",
       "      <td>8346</td>\n",
       "      <td>0</td>\n",
       "    </tr>\n",
       "    <tr>\n",
       "      <th>length</th>\n",
       "      <td>286500</td>\n",
       "      <td>14866</td>\n",
       "      <td>58392</td>\n",
       "      <td>0</td>\n",
       "    </tr>\n",
       "    <tr>\n",
       "      <th>level</th>\n",
       "      <td>286500</td>\n",
       "      <td>2</td>\n",
       "      <td>0</td>\n",
       "      <td>0</td>\n",
       "    </tr>\n",
       "    <tr>\n",
       "      <th>location</th>\n",
       "      <td>286500</td>\n",
       "      <td>115</td>\n",
       "      <td>8346</td>\n",
       "      <td>0</td>\n",
       "    </tr>\n",
       "    <tr>\n",
       "      <th>method</th>\n",
       "      <td>286500</td>\n",
       "      <td>2</td>\n",
       "      <td>0</td>\n",
       "      <td>0</td>\n",
       "    </tr>\n",
       "    <tr>\n",
       "      <th>page</th>\n",
       "      <td>286500</td>\n",
       "      <td>22</td>\n",
       "      <td>0</td>\n",
       "      <td>0</td>\n",
       "    </tr>\n",
       "    <tr>\n",
       "      <th>registration</th>\n",
       "      <td>286500</td>\n",
       "      <td>226</td>\n",
       "      <td>8346</td>\n",
       "      <td>0</td>\n",
       "    </tr>\n",
       "    <tr>\n",
       "      <th>sessionId</th>\n",
       "      <td>286500</td>\n",
       "      <td>2354</td>\n",
       "      <td>0</td>\n",
       "      <td>0</td>\n",
       "    </tr>\n",
       "    <tr>\n",
       "      <th>song</th>\n",
       "      <td>286500</td>\n",
       "      <td>58481</td>\n",
       "      <td>58392</td>\n",
       "      <td>0</td>\n",
       "    </tr>\n",
       "    <tr>\n",
       "      <th>status</th>\n",
       "      <td>286500</td>\n",
       "      <td>3</td>\n",
       "      <td>0</td>\n",
       "      <td>0</td>\n",
       "    </tr>\n",
       "    <tr>\n",
       "      <th>ts</th>\n",
       "      <td>286500</td>\n",
       "      <td>277447</td>\n",
       "      <td>0</td>\n",
       "      <td>0</td>\n",
       "    </tr>\n",
       "    <tr>\n",
       "      <th>userAgent</th>\n",
       "      <td>286500</td>\n",
       "      <td>57</td>\n",
       "      <td>8346</td>\n",
       "      <td>0</td>\n",
       "    </tr>\n",
       "    <tr>\n",
       "      <th>userId</th>\n",
       "      <td>286500</td>\n",
       "      <td>226</td>\n",
       "      <td>0</td>\n",
       "      <td>8346</td>\n",
       "    </tr>\n",
       "  </tbody>\n",
       "</table>\n",
       "</div>"
      ],
      "text/plain": [
       "                Count  Distinct    NaN  Blank\n",
       "artist         286500     17656  58392      0\n",
       "auth           286500         4      0      0\n",
       "firstName      286500       190   8346      0\n",
       "gender         286500         3   8346      0\n",
       "itemInSession  286500      1322      0      0\n",
       "lastName       286500       174   8346      0\n",
       "length         286500     14866  58392      0\n",
       "level          286500         2      0      0\n",
       "location       286500       115   8346      0\n",
       "method         286500         2      0      0\n",
       "page           286500        22      0      0\n",
       "registration   286500       226   8346      0\n",
       "sessionId      286500      2354      0      0\n",
       "song           286500     58481  58392      0\n",
       "status         286500         3      0      0\n",
       "ts             286500    277447      0      0\n",
       "userAgent      286500        57   8346      0\n",
       "userId         286500       226      0   8346"
      ]
     },
     "execution_count": 37,
     "metadata": {},
     "output_type": "execute_result"
    }
   ],
   "source": [
    "def build_feat_info(df):\n",
    "    return pd.DataFrame({'Count': [df.select(x).count() for x in df.columns],\n",
    "                        'Distinct': [df.select(x).distinct().count() for x in df.columns],\n",
    "                        'NaN': [df.filter(col(x).isNull()).count() for x in df.columns],\n",
    "                        'Blank': [df.filter(col(x)=='').count() for x in df.columns]},\n",
    "                        index = df.columns)\n",
    "\n",
    "build_feat_info(df)"
   ]
  },
  {
   "cell_type": "markdown",
   "metadata": {},
   "source": [
    "## 清洗数据\n",
    "- 删除缺失值\n",
    "- 转换日期格式"
   ]
  },
  {
   "cell_type": "code",
   "execution_count": 61,
   "metadata": {},
   "outputs": [
    {
     "name": "stdout",
     "output_type": "stream",
     "text": [
      "+----------+-------------------+\n",
      "|      auth|               page|\n",
      "+----------+-------------------+\n",
      "|     Guest|           Register|\n",
      "|     Guest|              Error|\n",
      "|     Guest|Submit Registration|\n",
      "|     Guest|              About|\n",
      "|     Guest|               Help|\n",
      "|     Guest|               Home|\n",
      "|Logged Out|               Home|\n",
      "|Logged Out|              About|\n",
      "|Logged Out|              Error|\n",
      "|Logged Out|              Login|\n",
      "|Logged Out|               Help|\n",
      "+----------+-------------------+\n",
      "\n"
     ]
    }
   ],
   "source": [
    "# 经过上述观察，`userId` 字段中包含很多空白值记录，这里列出它们的 auth 和 page 字段\n",
    "df.filter(df.userId == '').select('auth','page').distinct().sort('auth').show()"
   ]
  },
  {
   "cell_type": "code",
   "execution_count": null,
   "metadata": {},
   "outputs": [],
   "source": [
    "# 可以看出这些空白值都是登录相关的，对我们接下来的分析没有参考意义，可以清除\n",
    "df = df.filter(df.userId != '')"
   ]
  },
  {
   "cell_type": "code",
   "execution_count": 6,
   "metadata": {},
   "outputs": [],
   "source": [
    "# 将 ts, registration 列转换为 datetime 格式\n",
    "cvt_ts = udf(lambda x: datetime.datetime.fromtimestamp(x/1000).strftime(\"%Y-%m-%d %H:%M:%S\"))\n",
    "df = df.withColumn('ts_datetime', cvt_ts('ts'))\n",
    "df = df.withColumn('reg_datetime', cvt_ts('registration'))"
   ]
  },
  {
   "cell_type": "markdown",
   "metadata": {},
   "source": [
    "# 探索性数据分析\n",
    "使用 Spark 实现探索性数据分析。\n",
    "\n",
    "## 定义客户流失\n",
    "\n",
    "将 `Cancellation Confirmation` 事件定义为客户流失，该事件在付费或免费客户身上都有发生。  \n",
    "创建一列 `Churn` 作为模型的标签。"
   ]
  },
  {
   "cell_type": "code",
   "execution_count": 7,
   "metadata": {
    "scrolled": true
   },
   "outputs": [
    {
     "name": "stdout",
     "output_type": "stream",
     "text": [
      "+--------------------+------+\n",
      "|                page| count|\n",
      "+--------------------+------+\n",
      "|              Cancel|    52|\n",
      "|    Submit Downgrade|    63|\n",
      "|         Thumbs Down|  2546|\n",
      "|                Home| 10082|\n",
      "|           Downgrade|  2055|\n",
      "|         Roll Advert|  3933|\n",
      "|              Logout|  3226|\n",
      "|       Save Settings|   310|\n",
      "|Cancellation Conf...|    52|\n",
      "|               About|   495|\n",
      "|            Settings|  1514|\n",
      "|     Add to Playlist|  6526|\n",
      "|          Add Friend|  4277|\n",
      "|            NextSong|228108|\n",
      "|           Thumbs Up| 12551|\n",
      "|                Help|  1454|\n",
      "|             Upgrade|   499|\n",
      "|               Error|   252|\n",
      "|      Submit Upgrade|   159|\n",
      "+--------------------+------+\n",
      "\n"
     ]
    }
   ],
   "source": [
    "# 列出 page 中包含的所有事件\n",
    "df.groupby('page').count().show()"
   ]
  },
  {
   "cell_type": "code",
   "execution_count": 8,
   "metadata": {},
   "outputs": [],
   "source": [
    "# 为 churn 创建标签， 1为取消服务，0为未取消服务\n",
    "cvt_churn = udf(lambda x: 1 if x == 'Cancellation Confirmation' else 0, IntegerType())\n",
    "df = df.withColumn('churn', cvt_churn(df.page))"
   ]
  },
  {
   "cell_type": "code",
   "execution_count": 9,
   "metadata": {},
   "outputs": [],
   "source": [
    "# 为 downgrade 创建标签\n",
    "cvt_downgrade = udf(lambda x: 1 if x == 'Downgrade' else 0, IntegerType())\n",
    "df = df.withColumn('downgrade', cvt_downgrade(df.page))"
   ]
  },
  {
   "cell_type": "code",
   "execution_count": 10,
   "metadata": {},
   "outputs": [
    {
     "data": {
      "text/plain": [
       "Row(userId='125', sum(churn)=1)"
      ]
     },
     "execution_count": 10,
     "metadata": {},
     "output_type": "execute_result"
    }
   ],
   "source": [
    "# 数据集中每个用户至多只有一次 Cancellation Confirmation 记录\n",
    "df.groupBy('userId').agg({'churn':'sum'}).sort(desc('sum(churn)')).head()"
   ]
  },
  {
   "cell_type": "code",
   "execution_count": 11,
   "metadata": {},
   "outputs": [],
   "source": [
    "df.createOrReplaceTempView('df_table')"
   ]
  },
  {
   "cell_type": "code",
   "execution_count": 12,
   "metadata": {},
   "outputs": [],
   "source": [
    "# 标记流失客户的所有记录为 is_churn = 1\n",
    "df = spark.sql('''\n",
    "        SELECT *, MAX(churn)\n",
    "        OVER (PARTITION BY userId) AS is_churn\n",
    "        FROM df_table\n",
    "        ''')\n",
    "\n",
    "df.createOrReplaceTempView('df_table')"
   ]
  },
  {
   "cell_type": "markdown",
   "metadata": {},
   "source": [
    "## 探索数据\n",
    "执行探索性数据分析，观察留存用户和流失用户的行为。"
   ]
  },
  {
   "cell_type": "markdown",
   "metadata": {},
   "source": [
    "### 挑选可能有影响的列\n",
    "#### 1. 生命周期 `life cycle`"
   ]
  },
  {
   "cell_type": "code",
   "execution_count": 13,
   "metadata": {},
   "outputs": [],
   "source": [
    "# 将各用户最后一个操作日期减去注册日期，得到生命周期\n",
    "df = df.withColumn('period', round((df.ts - df.registration)/1000/3600))\n",
    "df.createOrReplaceTempView('df_table')"
   ]
  },
  {
   "cell_type": "code",
   "execution_count": 14,
   "metadata": {},
   "outputs": [
    {
     "name": "stdout",
     "output_type": "stream",
     "text": [
      "+------+---------+-----+\n",
      "|userId|lifecycle|churn|\n",
      "+------+---------+-----+\n",
      "|100010|   1335.0|    0|\n",
      "|200002|   1682.0|    0|\n",
      "|   125|   1712.0|    1|\n",
      "|    51|    467.0|    1|\n",
      "|   124|   3157.0|    0|\n",
      "+------+---------+-----+\n",
      "only showing top 5 rows\n",
      "\n"
     ]
    }
   ],
   "source": [
    "df_userlife = spark.sql('''\n",
    "        SELECT userId, MAX(period) AS lifecycle, MAX(churn) AS churn\n",
    "        FROM df_table\n",
    "        GROUP BY userId\n",
    "        ''')\n",
    "\n",
    "df_userlife.show(5)"
   ]
  },
  {
   "cell_type": "code",
   "execution_count": 15,
   "metadata": {},
   "outputs": [
    {
     "data": {
      "image/png": "[encoded data removed]",
      "text/plain": [
       "<Figure size 432x288 with 1 Axes>"
      ]
     },
     "metadata": {},
     "output_type": "display_data"
    }
   ],
   "source": [
    "# 作柱状图对比流失用户和全体用户的生命周期\n",
    "sns.set_style('white')\n",
    "\n",
    "f, ax = plt.subplots()\n",
    "\n",
    "sns.distplot(df_userlife.toPandas().lifecycle, bins = 15, kde = False, norm_hist = True)\n",
    "sns.distplot(df_userlife.toPandas().query('churn == \"1\"').lifecycle, bins = 15, kde = False, norm_hist = True)\n",
    "\n",
    "plt.title('Life Cycle: Overall vs. Churns')\n",
    "plt.xlabel('Life Cycle (hours)')\n",
    "f.legend(labels=['Overall','Churns'])\n",
    "\n",
    "sns.despine(left=True);"
   ]
  },
  {
   "cell_type": "markdown",
   "metadata": {},
   "source": [
    "> 可见流失用户生命周期偏短峰值在1000小时左右，相对整体用户（峰值约2000小时）明显偏短"
   ]
  },
  {
   "cell_type": "markdown",
   "metadata": {},
   "source": [
    "#### 2. 性别 `gender`"
   ]
  },
  {
   "cell_type": "code",
   "execution_count": 16,
   "metadata": {},
   "outputs": [
    {
     "name": "stdout",
     "output_type": "stream",
     "text": [
      "+--------+------+------+\n",
      "|is_churn|gender|userId|\n",
      "+--------+------+------+\n",
      "|       0|     F|100010|\n",
      "|       0|     M|200002|\n",
      "|       1|     M|   125|\n",
      "|       0|     F|   124|\n",
      "|       1|     M|    51|\n",
      "+--------+------+------+\n",
      "only showing top 5 rows\n",
      "\n"
     ]
    }
   ],
   "source": [
    "df_gender = spark.sql('''\n",
    "        SELECT is_churn, gender, userId\n",
    "        FROM df_table\n",
    "        GROUP BY is_churn, gender, userId\n",
    "        ''')\n",
    "\n",
    "df_gender.show(5)"
   ]
  },
  {
   "cell_type": "code",
   "execution_count": 17,
   "metadata": {
    "scrolled": true
   },
   "outputs": [
    {
     "data": {
      "image/png": "[encoded data removed]",
      "text/plain": [
       "<Figure size 432x288 with 1 Axes>"
      ]
     },
     "metadata": {},
     "output_type": "display_data"
    }
   ],
   "source": [
    "# 比较各自性别内的用户流失比例\n",
    "f, ax = plt.subplots()\n",
    "\n",
    "# Plot for total\n",
    "sns.set_color_codes('pastel')\n",
    "sns.countplot(x = 'gender', data = df_gender.toPandas(), label='Total', color='b')\n",
    "\n",
    "# Plot for churned\n",
    "sns.set_color_codes('deep')\n",
    "sns.countplot(x='gender', data = df_gender.toPandas()[df_gender.toPandas().is_churn == 1], label='Churned', color='b')\n",
    "\n",
    "# Decoration\n",
    "ax.legend(ncol=2, frameon=True)\n",
    "ax.set(title = 'Gender: Overall vs. Churns', ylabel='', xlabel='');\n",
    "sns.despine()"
   ]
  },
  {
   "cell_type": "markdown",
   "metadata": {},
   "source": [
    "> 可观察到男性用户流失的比率更高"
   ]
  },
  {
   "cell_type": "markdown",
   "metadata": {},
   "source": [
    "#### 3. 不同性别间流失时间差异"
   ]
  },
  {
   "cell_type": "code",
   "execution_count": 18,
   "metadata": {},
   "outputs": [
    {
     "name": "stdout",
     "output_type": "stream",
     "text": [
      "+------+---------+\n",
      "|gender|lifecycle|\n",
      "+------+---------+\n",
      "|     M|   1712.0|\n",
      "|     M|    467.0|\n",
      "|     F|   2658.0|\n",
      "|     M|   2042.0|\n",
      "|     M|   1295.0|\n",
      "+------+---------+\n",
      "only showing top 5 rows\n",
      "\n"
     ]
    }
   ],
   "source": [
    "df_lifecycle_gender = spark.sql('''\n",
    "        SELECT gender, ROUND(MAX(ts - registration)/1000/3600) AS lifecycle\n",
    "        FROM df_table\n",
    "        WHERE is_churn = 1\n",
    "        GROUP BY gender, userId\n",
    "        ''')\n",
    "\n",
    "df_lifecycle_gender.show(5)"
   ]
  },
  {
   "cell_type": "code",
   "execution_count": 19,
   "metadata": {
    "scrolled": true
   },
   "outputs": [
    {
     "data": {
      "image/png": "[encoded data removed]",
      "text/plain": [
       "<Figure size 432x288 with 1 Axes>"
      ]
     },
     "metadata": {},
     "output_type": "display_data"
    }
   ],
   "source": [
    "sns.set_color_codes('pastel')\n",
    "sns.boxplot(data = df_lifecycle_gender.toPandas(), x = 'gender', y = 'lifecycle', palette='rainbow')\n",
    "plt.title('Lifecycle by Gender - Distribution')\n",
    "sns.despine();"
   ]
  },
  {
   "cell_type": "markdown",
   "metadata": {},
   "source": [
    "> 中位数相近，相对来说女性在决定取消服务前会等待更长一段时间"
   ]
  },
  {
   "cell_type": "markdown",
   "metadata": {},
   "source": [
    "#### 4. `paid` vs. `free`"
   ]
  },
  {
   "cell_type": "code",
   "execution_count": 20,
   "metadata": {},
   "outputs": [
    {
     "name": "stdout",
     "output_type": "stream",
     "text": [
      "+------+-------------+-----+--------+\n",
      "|userId|      last_ts|level|is_churn|\n",
      "+------+-------------+-----+--------+\n",
      "|    10|1542631788000| paid|       0|\n",
      "|   100|1543587349000| paid|       0|\n",
      "|100001|1538498205000| free|       1|\n",
      "|100002|1543799476000| paid|       0|\n",
      "|100003|1539274781000| free|       1|\n",
      "+------+-------------+-----+--------+\n",
      "only showing top 5 rows\n",
      "\n"
     ]
    }
   ],
   "source": [
    "df_level = spark.sql('''\n",
    "        SELECT t2.userId, t2.last_ts, t1.level, t1.is_churn\n",
    "        FROM \n",
    "        df_table AS t1 RIGHT JOIN\n",
    "            (SELECT userId, MAX(ts) AS last_ts FROM df_table GROUP BY userId) AS t2\n",
    "            ON t1.userId = t2.userId AND t1.ts = t2.last_ts\n",
    "        ORDER BY userId, last_ts\n",
    "        ''').dropDuplicates()\n",
    "\n",
    "df_level.show(5)"
   ]
  },
  {
   "cell_type": "code",
   "execution_count": 21,
   "metadata": {
    "scrolled": false
   },
   "outputs": [
    {
     "data": {
      "image/png": "[encoded data removed]",
      "text/plain": [
       "<Figure size 432x288 with 1 Axes>"
      ]
     },
     "metadata": {},
     "output_type": "display_data"
    }
   ],
   "source": [
    "f, ax = plt.subplots()\n",
    "\n",
    "sns.set_color_codes('pastel')\n",
    "sns.countplot(y = 'level', data = df_level.toPandas(), color = 'g')\n",
    "\n",
    "sns.set_color_codes('deep')\n",
    "sns.countplot(y = 'level', data = df_level.toPandas()[df_level.toPandas()['is_churn'] == 1], color = 'g')\n",
    "plt.title('Free/Paid: Overall vs. Churns')\n",
    "f.legend(labels=['Overall','Churns'])\n",
    "\n",
    "sns.despine();"
   ]
  },
  {
   "cell_type": "markdown",
   "metadata": {},
   "source": [
    "> 可观察到付费用户流失的比例更高"
   ]
  },
  {
   "cell_type": "markdown",
   "metadata": {},
   "source": [
    "#### 5. 用户活动情况 `page` 分析\n",
    "从用户注册之日起，以周为单位汇总各项活动数量，并对比取消服务用户和其他用户。  \n",
    "以周为单位而非小时或日，会使曲线更平滑更易于对比。"
   ]
  },
  {
   "cell_type": "code",
   "execution_count": 22,
   "metadata": {},
   "outputs": [],
   "source": [
    "# 挑选可能有影响的活动\n",
    "features  = ('NextSong','Thumbs Up','Thumbs Down','Add Friend','Add to Playlist','Downgrade','Roll Advert')"
   ]
  },
  {
   "cell_type": "code",
   "execution_count": 23,
   "metadata": {
    "scrolled": true
   },
   "outputs": [],
   "source": [
    "# 分析非流失用户\n",
    "df_page_0 = spark.sql('''\n",
    "        SELECT weeks, page, AVG(COUNT) AS count_nchurn\n",
    "        FROM\n",
    "        (SELECT userId, ROUND(period/24/7) AS weeks, page, COUNT(*) AS count\n",
    "        FROM df_table\n",
    "        WHERE is_churn = 0\n",
    "            AND page IN ('NextSong','Thumbs Up','Thumbs Down','Add Friend','Add to Playlist','Downgrade','Roll Advert')\n",
    "        GROUP BY userId, weeks, page)\n",
    "        GROUP BY weeks, page\n",
    "        ''')"
   ]
  },
  {
   "cell_type": "code",
   "execution_count": 24,
   "metadata": {
    "scrolled": true
   },
   "outputs": [],
   "source": [
    "# 分析流失用户\n",
    "df_page_1 = spark.sql('''\n",
    "        SELECT weeks, page, AVG(COUNT) AS count_churn\n",
    "        FROM\n",
    "        (SELECT userId, ROUND(period/24/7) AS weeks, page, COUNT(*) AS count\n",
    "        FROM df_table\n",
    "        WHERE is_churn = 1\n",
    "            AND page IN ('NextSong','Thumbs Up','Thumbs Down','Add Friend','Add to Playlist','Downgrade','Roll Advert')\n",
    "        GROUP BY userId, weeks, page)\n",
    "        GROUP BY weeks, page\n",
    "        ''')"
   ]
  },
  {
   "cell_type": "code",
   "execution_count": 25,
   "metadata": {},
   "outputs": [],
   "source": [
    "# 合并上述分析结果\n",
    "df_page = pd.merge(df_page_0.toPandas(), df_page_1.toPandas(), on = ['weeks','page'])"
   ]
  },
  {
   "cell_type": "code",
   "execution_count": 26,
   "metadata": {},
   "outputs": [
    {
     "data": {
      "text/html": [
       "<div>\n",
       "<style scoped>\n",
       "    .dataframe tbody tr th:only-of-type {\n",
       "        vertical-align: middle;\n",
       "    }\n",
       "\n",
       "    .dataframe tbody tr th {\n",
       "        vertical-align: top;\n",
       "    }\n",
       "\n",
       "    .dataframe thead th {\n",
       "        text-align: right;\n",
       "    }\n",
       "</style>\n",
       "<table border=\"1\" class=\"dataframe\">\n",
       "  <thead>\n",
       "    <tr style=\"text-align: right;\">\n",
       "      <th></th>\n",
       "      <th>weeks</th>\n",
       "      <th>page</th>\n",
       "      <th>is_churn</th>\n",
       "      <th>count</th>\n",
       "    </tr>\n",
       "  </thead>\n",
       "  <tbody>\n",
       "    <tr>\n",
       "      <th>23</th>\n",
       "      <td>0.0</td>\n",
       "      <td>Add Friend</td>\n",
       "      <td>count_nchurn</td>\n",
       "      <td>2.428571</td>\n",
       "    </tr>\n",
       "    <tr>\n",
       "      <th>194</th>\n",
       "      <td>0.0</td>\n",
       "      <td>Add Friend</td>\n",
       "      <td>count_churn</td>\n",
       "      <td>1.000000</td>\n",
       "    </tr>\n",
       "    <tr>\n",
       "      <th>165</th>\n",
       "      <td>0.0</td>\n",
       "      <td>Add to Playlist</td>\n",
       "      <td>count_nchurn</td>\n",
       "      <td>2.583333</td>\n",
       "    </tr>\n",
       "    <tr>\n",
       "      <th>336</th>\n",
       "      <td>0.0</td>\n",
       "      <td>Add to Playlist</td>\n",
       "      <td>count_churn</td>\n",
       "      <td>1.000000</td>\n",
       "    </tr>\n",
       "    <tr>\n",
       "      <th>104</th>\n",
       "      <td>0.0</td>\n",
       "      <td>NextSong</td>\n",
       "      <td>count_nchurn</td>\n",
       "      <td>79.571429</td>\n",
       "    </tr>\n",
       "  </tbody>\n",
       "</table>\n",
       "</div>"
      ],
      "text/plain": [
       "     weeks             page      is_churn      count\n",
       "23     0.0       Add Friend  count_nchurn   2.428571\n",
       "194    0.0       Add Friend   count_churn   1.000000\n",
       "165    0.0  Add to Playlist  count_nchurn   2.583333\n",
       "336    0.0  Add to Playlist   count_churn   1.000000\n",
       "104    0.0         NextSong  count_nchurn  79.571429"
      ]
     },
     "execution_count": 26,
     "metadata": {},
     "output_type": "execute_result"
    }
   ],
   "source": [
    "df_page = pd.melt(df_page, id_vars=['weeks','page'], var_name='is_churn', value_name='count').sort_values(['weeks','page'])\n",
    "df_page.head()"
   ]
  },
  {
   "cell_type": "code",
   "execution_count": 27,
   "metadata": {
    "scrolled": true
   },
   "outputs": [
    {
     "data": {
      "image/png": "[encoded data removed]",
      "text/plain": [
       "<Figure size 968.125x432 with 7 Axes>"
      ]
     },
     "metadata": {},
     "output_type": "display_data"
    }
   ],
   "source": [
    "# 作拆线图。因为根据前述生命周期分析，绝大多数流失用户在 20 周内就取消了服务，所以这里我们把 x 轴限制在家 20 周以内，以避免后续因流失用户\n",
    "# 数量不足而对分析结果造成偏差\n",
    "g = sns.FacetGrid(data = df_page, col = 'page', hue = 'is_churn', col_wrap = 4, sharey = False, xlim = 20, legend_out = True)\n",
    "g.map(sns.lineplot, 'weeks', 'count')\n",
    "g.add_legend()\n",
    "g.set_titles('{col_name}');"
   ]
  },
  {
   "cell_type": "markdown",
   "metadata": {},
   "source": [
    "> 观察到有几项差别较明显：`Add Friend` `Roll Advert` `Thumbs Down` `Thumbs Up` `Downgrade`"
   ]
  },
  {
   "cell_type": "markdown",
   "metadata": {},
   "source": [
    "#### 6. 听过的歌手数量对比"
   ]
  },
  {
   "cell_type": "code",
   "execution_count": 39,
   "metadata": {},
   "outputs": [
    {
     "name": "stdout",
     "output_type": "stream",
     "text": [
      "+------------------+--------+\n",
      "|           artists|is_churn|\n",
      "+------------------+--------+\n",
      "| 699.8846153846154|       1|\n",
      "|1108.1734104046243|       0|\n",
      "+------------------+--------+\n",
      "\n"
     ]
    }
   ],
   "source": [
    "df_artist = spark.sql('''\n",
    "        SELECT AVG(t. artists) AS artists, t.is_churn\n",
    "        FROM\n",
    "        (SELECT userId, COUNT(artist) AS artists, is_churn\n",
    "        FROM df_table\n",
    "        GROUP BY is_churn, userId) AS t\n",
    "        GROUP BY t.is_churn\n",
    "        ''')\n",
    "\n",
    "df_artist.show(5)"
   ]
  },
  {
   "cell_type": "code",
   "execution_count": 137,
   "metadata": {
    "scrolled": false
   },
   "outputs": [
    {
     "data": {
      "image/png": "[encoded data removed]",
      "text/plain": [
       "<Figure size 432x288 with 1 Axes>"
      ]
     },
     "metadata": {},
     "output_type": "display_data"
    }
   ],
   "source": [
    "sns.set_color_codes('pastel')\n",
    "sns.barplot(x = 'is_churn', y = 'artists', data = df_artist.toPandas())\n",
    "plt.title('Average Number of Artists Listened by churn')\n",
    "\n",
    "sns.despine();"
   ]
  },
  {
   "cell_type": "markdown",
   "metadata": {},
   "source": [
    "> 观察到流失用户平均听过的歌手数量比较低"
   ]
  },
  {
   "cell_type": "markdown",
   "metadata": {},
   "source": [
    "#### 7. 用户 session 数量统计"
   ]
  },
  {
   "cell_type": "code",
   "execution_count": 41,
   "metadata": {},
   "outputs": [
    {
     "name": "stdout",
     "output_type": "stream",
     "text": [
      "+------+--------+--------+\n",
      "|userId|sessions|is_churn|\n",
      "+------+--------+--------+\n",
      "|100010|   381.0|       0|\n",
      "|200002|   474.0|       0|\n",
      "|   125|    11.0|       1|\n",
      "|   124|  4825.0|       0|\n",
      "|    51|  2464.0|       1|\n",
      "+------+--------+--------+\n",
      "only showing top 5 rows\n",
      "\n"
     ]
    }
   ],
   "source": [
    "df_session = spark.sql('''\n",
    "        SELECT t.userId, AVG(t.sessions) AS sessions, t.is_churn\n",
    "        FROM\n",
    "        (SELECT userId, COUNT(sessionId) AS sessions, MAX(is_churn) AS is_churn\n",
    "        FROM df_table\n",
    "        GROUP BY userId) AS t\n",
    "        GROUP BY t.userId, t.is_churn\n",
    "        ''')\n",
    "df_session.show(5)"
   ]
  },
  {
   "cell_type": "code",
   "execution_count": 138,
   "metadata": {
    "scrolled": true
   },
   "outputs": [
    {
     "data": {
      "image/png": "[encoded data removed]",
      "text/plain": [
       "<Figure size 432x288 with 1 Axes>"
      ]
     },
     "metadata": {},
     "output_type": "display_data"
    }
   ],
   "source": [
    "sns.countplot(data = df_session.toPandas(), x = 'is_churn')\n",
    "plt.title('Average Sessions by churn')\n",
    "sns.despine();"
   ]
  },
  {
   "cell_type": "markdown",
   "metadata": {},
   "source": [
    "> 可观察到到流失用户 session 数明显低于未流失用户"
   ]
  },
  {
   "cell_type": "markdown",
   "metadata": {},
   "source": [
    "#### 8. 每个session内歌曲播放的总时长"
   ]
  },
  {
   "cell_type": "code",
   "execution_count": 43,
   "metadata": {},
   "outputs": [
    {
     "name": "stdout",
     "output_type": "stream",
     "text": [
      "+------+------------------+--------+\n",
      "|userId|            length|is_churn|\n",
      "+------+------------------+--------+\n",
      "|    10|27811.062084999994|       0|\n",
      "|   100|19790.525193823534|       0|\n",
      "|100001|      8768.4355375|       1|\n",
      "|100002|12389.979524999995|       0|\n",
      "|100003| 6153.209660000001|       1|\n",
      "+------+------------------+--------+\n",
      "only showing top 5 rows\n",
      "\n"
     ]
    }
   ],
   "source": [
    "df_length = spark.sql('''\n",
    "        SELECT t.userId, AVG(t.length) AS length, t.is_churn\n",
    "        FROM\n",
    "        (SELECT userId, sessionId, SUM(length) AS length, MAX(is_churn) AS is_churn\n",
    "        FROM df_table\n",
    "        WHERE page = 'NextSong'\n",
    "        GROUP BY userId, sessionId) AS t\n",
    "        GROUP BY t.userId, t.is_churn\n",
    "        ORDER BY t.userId\n",
    "        ''')\n",
    "df_length.show(5)"
   ]
  },
  {
   "cell_type": "code",
   "execution_count": 140,
   "metadata": {
    "scrolled": false
   },
   "outputs": [
    {
     "data": {
      "image/png": "[encoded data removed]",
      "text/plain": [
       "<Figure size 432x288 with 1 Axes>"
      ]
     },
     "metadata": {},
     "output_type": "display_data"
    }
   ],
   "source": [
    "sns.swarmplot(data = df_length.toPandas(), x = 'is_churn', y = 'length');\n",
    "plt.title('Length of Listen to Songs per Session by churn')\n",
    "sns.despine();"
   ]
  },
  {
   "cell_type": "markdown",
   "metadata": {},
   "source": [
    "> 可观察到流失用户每个 session 内歌曲播放总时长也较少"
   ]
  },
  {
   "cell_type": "markdown",
   "metadata": {},
   "source": [
    "# 特征工程\n",
    "### 挑选上一部分分析过的 `page` 相关变量，提取为特征"
   ]
  },
  {
   "cell_type": "code",
   "execution_count": 45,
   "metadata": {},
   "outputs": [
    {
     "name": "stdout",
     "output_type": "stream",
     "text": [
      "+------+----------+---------------+---------+--------+-----------+-----------+---------+\n",
      "|userId|Add Friend|Add to Playlist|Downgrade|NextSong|Roll Advert|Thumbs Down|Thumbs Up|\n",
      "+------+----------+---------------+---------+--------+-----------+-----------+---------+\n",
      "|    10|        12|              9|        7|     673|          1|          4|       37|\n",
      "|   100|        49|             61|       30|    2682|         25|         27|      148|\n",
      "|100001|         2|              3|        0|     133|         14|          2|        8|\n",
      "|100002|         1|              5|        2|     195|          3|          0|        5|\n",
      "|100003|         0|              2|        0|      51|          9|          0|        3|\n",
      "+------+----------+---------------+---------+--------+-----------+-----------+---------+\n",
      "only showing top 5 rows\n",
      "\n"
     ]
    }
   ],
   "source": [
    "df_pages = spark.sql('''\n",
    "        SELECT userId, page, COUNT(*) AS count\n",
    "        FROM df_table\n",
    "        WHERE page In ('NextSong','Thumbs Up','Thumbs Down','Add Friend','Add to Playlist','Downgrade','Roll Advert')\n",
    "        GROUP BY userId, page\n",
    "        ORDER BY userId\n",
    "        ''')\n",
    "\n",
    "df_pages = df_pages.groupby('userId').pivot('page').sum('count').fillna(0)\n",
    "df_pages.show(5)"
   ]
  },
  {
   "cell_type": "markdown",
   "metadata": {},
   "source": [
    "### 补充一些其它变量并提取为特征"
   ]
  },
  {
   "cell_type": "code",
   "execution_count": 46,
   "metadata": {},
   "outputs": [
    {
     "name": "stdout",
     "output_type": "stream",
     "text": [
      "+------+-------+\n",
      "|userId|artists|\n",
      "+------+-------+\n",
      "|100010|    275|\n",
      "|200002|    387|\n",
      "|   125|      8|\n",
      "|    51|   2111|\n",
      "|   124|   4079|\n",
      "+------+-------+\n",
      "only showing top 5 rows\n",
      "\n"
     ]
    }
   ],
   "source": [
    "# 统计各用户听过的 artists 数量\n",
    "df_artists = spark.sql('''\n",
    "        SELECT userId, COUNT(artist) AS artists\n",
    "        FROM df_table\n",
    "        GROUP BY userId\n",
    "        ''')\n",
    "df_artists.show(5)"
   ]
  },
  {
   "cell_type": "code",
   "execution_count": 47,
   "metadata": {},
   "outputs": [],
   "source": [
    "# 将 gender 从 M/F 转换为 1/0 \n",
    "cvt_gender = udf(lambda x: 1 if x == 'M' else 0, IntegerType())\n",
    "df_gender = df_gender.withColumn('gender', cvt_gender('gender'))"
   ]
  },
  {
   "cell_type": "code",
   "execution_count": 48,
   "metadata": {},
   "outputs": [],
   "source": [
    "# 将 level 从 paid/free 转换为 1/0 \n",
    "cvt_level = udf(lambda x: 1 if x == 'paid' else 0, IntegerType())\n",
    "df_level = df_level.withColumn('level', cvt_level('level'))"
   ]
  },
  {
   "cell_type": "markdown",
   "metadata": {},
   "source": [
    "### 合并所有特征和标签"
   ]
  },
  {
   "cell_type": "code",
   "execution_count": 49,
   "metadata": {},
   "outputs": [
    {
     "name": "stdout",
     "output_type": "stream",
     "text": [
      "+------+---------+-----+------+-----+----------+---------------+---------+--------+-----------+-----------+---------+-------+--------+-----------------+\n",
      "|userId|lifecycle|label|gender|level|Add Friend|Add to Playlist|Downgrade|NextSong|Roll Advert|Thumbs Down|Thumbs Up|artists|sessions|           length|\n",
      "+------+---------+-----+------+-----+----------+---------------+---------+--------+-----------+-----------+---------+-------+--------+-----------------+\n",
      "|100010|   1335.0|    0|     0|    0|         4|              7|        0|     275|         52|          5|       17|    275|   381.0|9562.985335714286|\n",
      "+------+---------+-----+------+-----+----------+---------------+---------+--------+-----------+-----------+---------+-------+--------+-----------------+\n",
      "only showing top 1 row\n",
      "\n"
     ]
    }
   ],
   "source": [
    "data = df_userlife.select('userId','lifecycle',col('churn').alias('label')) \\\n",
    "        .join(df_gender.select('userId','gender'), on='userId', how='outer') \\\n",
    "        .join(df_level.select('userId','level'), on='userId', how='outer') \\\n",
    "        .join(df_pages, on = 'userId', how='outer') \\\n",
    "        .join(df_artists.select('userId','artists'), on='userId', how='outer') \\\n",
    "        .join(df_session.select('userId','sessions'), on = 'userId', how='outer') \\\n",
    "        .join(df_length.select('userId','length'), on='userId', how='outer') \\\n",
    "        .fillna(0)\n",
    "\n",
    "data.show(1)"
   ]
  },
  {
   "cell_type": "code",
   "execution_count": 50,
   "metadata": {},
   "outputs": [
    {
     "data": {
      "text/plain": [
       "225"
      ]
     },
     "execution_count": 50,
     "metadata": {},
     "output_type": "execute_result"
    }
   ],
   "source": [
    "# 检查合并结果\n",
    "data.count()"
   ]
  },
  {
   "cell_type": "markdown",
   "metadata": {},
   "source": [
    "# 建模\n",
    "\n",
    "将完整数据集分成训练集、测试集和验证集。 \n",
    "使用几种学过的机器学习方法进行训练，并评价不同机方法的结果。\n",
    "\n",
    "这里选用 F1 score 作为主要优化指标， 因为我们希望在准确率和召回率间取得平衡，即希望尽可能不漏掉可能流失的用户，又不希望把优惠额度浪费在太多本没有流失风险的用户上。而F1 Score在平衡二者上有较好的参考意义。\n",
    "\n",
    "另外训练时间也是一个重要的参考指标，尤其是我们要处理的数据量非常大，以过长的训练时间（也意味着更多的计算资源）来换取F1 Score的少量提升并不划算。"
   ]
  },
  {
   "cell_type": "code",
   "execution_count": 52,
   "metadata": {
    "scrolled": false
   },
   "outputs": [
    {
     "name": "stdout",
     "output_type": "stream",
     "text": [
      "root\n",
      " |-- userId: string (nullable = true)\n",
      " |-- lifecycle: double (nullable = false)\n",
      " |-- label: integer (nullable = true)\n",
      " |-- gender: integer (nullable = true)\n",
      " |-- level: integer (nullable = true)\n",
      " |-- Add Friend: long (nullable = true)\n",
      " |-- Add to Playlist: long (nullable = true)\n",
      " |-- Downgrade: long (nullable = true)\n",
      " |-- NextSong: long (nullable = true)\n",
      " |-- Roll Advert: long (nullable = true)\n",
      " |-- Thumbs Down: long (nullable = true)\n",
      " |-- Thumbs Up: long (nullable = true)\n",
      " |-- artists: long (nullable = true)\n",
      " |-- sessions: double (nullable = false)\n",
      " |-- length: double (nullable = false)\n",
      "\n"
     ]
    }
   ],
   "source": [
    "# 检查变量数据格式是否均为数字\n",
    "data.printSchema()"
   ]
  },
  {
   "cell_type": "markdown",
   "metadata": {},
   "source": [
    "## 数据预处理\n",
    "### Vector Assembler"
   ]
  },
  {
   "cell_type": "code",
   "execution_count": 53,
   "metadata": {
    "scrolled": true
   },
   "outputs": [],
   "source": [
    "cols = ['lifecycle', 'gender', 'level', 'Add Friend', 'Add to Playlist', 'Downgrade', \\\n",
    "        'NextSong', 'Roll Advert', 'Thumbs Down', 'Thumbs Up', 'artists', 'sessions', 'length']\n",
    "\n",
    "assembler = VectorAssembler(inputCols = cols, outputCol = 'NumFeatures')\n",
    "data = assembler.transform(data)"
   ]
  },
  {
   "cell_type": "markdown",
   "metadata": {},
   "source": [
    "### Normalize and Scale Vectors"
   ]
  },
  {
   "cell_type": "code",
   "execution_count": 54,
   "metadata": {},
   "outputs": [],
   "source": [
    "scaler = StandardScaler(inputCol = 'NumFeatures', outputCol = 'features', withStd = True)\n",
    "scalerModel = scaler.fit(data)\n",
    "data = scalerModel.transform(data)"
   ]
  },
  {
   "cell_type": "markdown",
   "metadata": {},
   "source": [
    "## 划分训练集、测试集和验证集库 Train, Test and Validation"
   ]
  },
  {
   "cell_type": "code",
   "execution_count": 56,
   "metadata": {},
   "outputs": [
    {
     "data": {
      "text/plain": [
       "DataFrame[userId: string, lifecycle: double, label: int, gender: int, level: int, Add Friend: bigint, Add to Playlist: bigint, Downgrade: bigint, NextSong: bigint, Roll Advert: bigint, Thumbs Down: bigint, Thumbs Up: bigint, artists: bigint, sessions: double, length: double, NumFeatures: vector, features: vector]"
      ]
     },
     "execution_count": 56,
     "metadata": {},
     "output_type": "execute_result"
    }
   ],
   "source": [
    "# 划分比例 train:validation:test = 8:1:1\n",
    "train, rest = data.randomSplit([.8, .2], seed = 42)\n",
    "validation, test = rest.randomSplit([.5, .5], seed = 42)\n",
    "\n",
    "# 将数据集存在内存中，以加快后续程序运行的速度。\n",
    "train.cache()\n",
    "validation.cache()\n",
    "test.cache()"
   ]
  },
  {
   "cell_type": "markdown",
   "metadata": {},
   "source": [
    "## 定义 Baseline"
   ]
  },
  {
   "cell_type": "code",
   "execution_count": 57,
   "metadata": {},
   "outputs": [],
   "source": [
    "# 假设全部用户标记为取消服务，计算其 F1-Score\n",
    "baseline_1 = test.withColumn('prediction',lit(1.0))\n",
    "evaluator = MulticlassClassificationEvaluator()\n",
    "acc_1 = evaluator.evaluate(baseline_1, {evaluator.metricName:'accuracy'})\n",
    "f1_1 = evaluator.evaluate(baseline_1)"
   ]
  },
  {
   "cell_type": "code",
   "execution_count": 58,
   "metadata": {},
   "outputs": [],
   "source": [
    "# 假设全部用户标记为未取消服务，计算其 F1-Score\n",
    "baseline_0 = test.withColumn('prediction',lit(0.0))\n",
    "evaluator = MulticlassClassificationEvaluator()\n",
    "acc_0 = evaluator.evaluate(baseline_0, {evaluator.metricName:'accuracy'})\n",
    "f1_0 = evaluator.evaluate(baseline_0)"
   ]
  },
  {
   "cell_type": "code",
   "execution_count": 75,
   "metadata": {},
   "outputs": [
    {
     "name": "stdout",
     "output_type": "stream",
     "text": [
      "Baseline F1-Score: \n",
      "As all users labeled as churn: 0.0808080808080808 \n",
      "As all users labeled as not churn: 0.6805555555555557         \n",
      "\n",
      "Baseline Accuracy: \n",
      "As all users labeled as churn: 0.2222222222222222 \n",
      "As all users labeled as not churn: 0.7777777777777778\n"
     ]
    }
   ],
   "source": [
    "print(f'Baseline F1-Score: \\nAs all users labeled as churn: {f1_1} \\nAs all users labeled as not churn: {f1_0} \\\n",
    "        \\n\\nBaseline Accuracy: \\nAs all users labeled as churn: {acc_1} \\nAs all users labeled as not churn: {acc_0}')"
   ]
  },
  {
   "cell_type": "markdown",
   "metadata": {},
   "source": [
    "> 我们把 `假设所有用户都没有取消服务` 设置为 Baseline，其 F1-Score为 0.681"
   ]
  },
  {
   "cell_type": "markdown",
   "metadata": {},
   "source": [
    "## 训练\n",
    "使用 5 种不同模型进行训练，并计算其运行时间、准确率和 F1-Score  \n",
    "候选模型：`Logistic Regression` `Logistic Regression` `Gradient-Boosted Trees` `Support Vector Machines` `Naive Bayes`"
   ]
  },
  {
   "cell_type": "code",
   "execution_count": 77,
   "metadata": {},
   "outputs": [],
   "source": [
    "# 使用 train 和 validation 数据集，依此训练 5 个模型 \n",
    "models = {'Logistic Regression': LogisticRegression(),\n",
    "     'Random Forest': RandomForestClassifier(),\n",
    "     'Gradient-Boosted Trees': GBTClassifier(),\n",
    "     'Support Vector Machines': LinearSVC(),\n",
    "     'Naive Bayes': NaiveBayes()}\n",
    "\n",
    "compare = dict()\n",
    "\n",
    "for md in models:\n",
    "    start_time = time.time()\n",
    "    model = models[md].fit(train)\n",
    "\n",
    "    runtime = time.time() - start_time\n",
    "\n",
    "    results = model.transform(validation)\n",
    "    accuracy = MulticlassClassificationEvaluator(metricName='accuracy').evaluate(results)\n",
    "    f1 = MulticlassClassificationEvaluator().evaluate(results)\n",
    "\n",
    "    compare[md] = {'runtime': runtime, 'accuracy': accuracy, 'f1': f1}"
   ]
  },
  {
   "cell_type": "markdown",
   "metadata": {},
   "source": [
    "## 模型选择\n",
    "列表比较5个模型的训练结果，并与 Baseline 进行对比"
   ]
  },
  {
   "cell_type": "code",
   "execution_count": 100,
   "metadata": {},
   "outputs": [],
   "source": [
    "# 在结果中并入 Baseline\n",
    "compare.update({'Baseline': {'runtime': '-','accuracy': acc_0, 'f1': f1_0}})"
   ]
  },
  {
   "cell_type": "code",
   "execution_count": 107,
   "metadata": {},
   "outputs": [
    {
     "data": {
      "text/html": [
       "<div>\n",
       "<style scoped>\n",
       "    .dataframe tbody tr th:only-of-type {\n",
       "        vertical-align: middle;\n",
       "    }\n",
       "\n",
       "    .dataframe tbody tr th {\n",
       "        vertical-align: top;\n",
       "    }\n",
       "\n",
       "    .dataframe thead th {\n",
       "        text-align: right;\n",
       "    }\n",
       "</style>\n",
       "<table border=\"1\" class=\"dataframe\">\n",
       "  <thead>\n",
       "    <tr style=\"text-align: right;\">\n",
       "      <th></th>\n",
       "      <th>accuracy</th>\n",
       "      <th>f1</th>\n",
       "      <th>runtime</th>\n",
       "    </tr>\n",
       "  </thead>\n",
       "  <tbody>\n",
       "    <tr>\n",
       "      <th>Random Forest</th>\n",
       "      <td>0.857143</td>\n",
       "      <td>0.839827</td>\n",
       "      <td>36.0904</td>\n",
       "    </tr>\n",
       "    <tr>\n",
       "      <th>Logistic Regression</th>\n",
       "      <td>0.857143</td>\n",
       "      <td>0.839827</td>\n",
       "      <td>233.662</td>\n",
       "    </tr>\n",
       "    <tr>\n",
       "      <th>Gradient-Boosted Trees</th>\n",
       "      <td>0.714286</td>\n",
       "      <td>0.72619</td>\n",
       "      <td>358.514</td>\n",
       "    </tr>\n",
       "    <tr>\n",
       "      <th>Baseline</th>\n",
       "      <td>0.777778</td>\n",
       "      <td>0.680556</td>\n",
       "      <td>-</td>\n",
       "    </tr>\n",
       "    <tr>\n",
       "      <th>Naive Bayes</th>\n",
       "      <td>0.714286</td>\n",
       "      <td>0.595238</td>\n",
       "      <td>3.89333</td>\n",
       "    </tr>\n",
       "    <tr>\n",
       "      <th>Support Vector Machines</th>\n",
       "      <td>0.714286</td>\n",
       "      <td>0.595238</td>\n",
       "      <td>686.562</td>\n",
       "    </tr>\n",
       "  </tbody>\n",
       "</table>\n",
       "</div>"
      ],
      "text/plain": [
       "                         accuracy        f1  runtime\n",
       "Random Forest            0.857143  0.839827  36.0904\n",
       "Logistic Regression      0.857143  0.839827  233.662\n",
       "Gradient-Boosted Trees   0.714286   0.72619  358.514\n",
       "Baseline                 0.777778  0.680556        -\n",
       "Naive Bayes              0.714286  0.595238  3.89333\n",
       "Support Vector Machines  0.714286  0.595238  686.562"
      ]
     },
     "execution_count": 107,
     "metadata": {},
     "output_type": "execute_result"
    }
   ],
   "source": [
    "# 显示结果并按照 F1-Score 和 Runtime 排序\n",
    "df_compare = pd.DataFrame(compare).transpose().sort_values(['f1','runtime'], ascending = [False, True])\n",
    "df_compare"
   ]
  },
  {
   "cell_type": "markdown",
   "metadata": {},
   "source": [
    "> 论准确度和 F1-Score `Logistic Regression` 和 `Random Forest` 最高，而 `Random Forest`用时更短，故选择`Random Forest`模型，并作进一步调优"
   ]
  },
  {
   "cell_type": "markdown",
   "metadata": {},
   "source": [
    "### 参数调节\n",
    "对了Random Forest 模型尝试不同参数"
   ]
  },
  {
   "cell_type": "code",
   "execution_count": 67,
   "metadata": {},
   "outputs": [],
   "source": [
    "# 设置需要调节的参数\n",
    "gbt = RandomForestClassifier()\n",
    "\n",
    "paramGrid = ParamGridBuilder() \\\n",
    "    .addGrid(gbt.maxDepth,[5, 7,10]) \\\n",
    "    .addGrid(gbt.numTrees,[20, 30, 50]) \\\n",
    "    .build()\n",
    "\n",
    "crossval = CrossValidator(estimator=gbt,\n",
    "                          estimatorParamMaps=paramGrid,\n",
    "                          evaluator=MulticlassClassificationEvaluator(),\n",
    "                          numFolds=3)"
   ]
  },
  {
   "cell_type": "code",
   "execution_count": 68,
   "metadata": {},
   "outputs": [
    {
     "name": "stdout",
     "output_type": "stream",
     "text": [
      "Final Results:\n",
      "Training time(seconds): 1914.5231359004974 seconds \n",
      "F1-Score on Validation set: 0.7901234567901235\n"
     ]
    }
   ],
   "source": [
    "# 训练得出最优模型，并在测试集上生成预测\n",
    "best = GBTClassifier(maxIter=10, maxDepth=5)\n",
    "\n",
    "start_time = time.time()\n",
    "cvModel = crossval.fit(train)\n",
    "runtime_best = time.time() - start_time\n",
    "\n",
    "cvModel.avgMetrics\n",
    "results = cvModel.transform(test)\n",
    "evaluator = MulticlassClassificationEvaluator(predictionCol = 'prediction')\n",
    "f1_best = evaluator.evaluate(results,{evaluator.metricName:'f1'})\n",
    "\n",
    "print(f'Final Results:\\nTraining time(seconds): {runtime_best} seconds \\nF1-Score on Validation set: {f1_best}')"
   ]
  },
  {
   "cell_type": "markdown",
   "metadata": {},
   "source": [
    "> 最终在测试集上的结果 F1-Score = 0.790，对比 Baseline 的 0.681 仍然有 16% 的优势"
   ]
  },
  {
   "cell_type": "code",
   "execution_count": 468,
   "metadata": {},
   "outputs": [],
   "source": [
    "# 保存模型以备将来使用\n",
    "cvModel.save('trainedModel')"
   ]
  },
  {
   "cell_type": "markdown",
   "metadata": {},
   "source": [
    "# 特征分析\n",
    "分析各个特征所占比重"
   ]
  },
  {
   "cell_type": "code",
   "execution_count": 141,
   "metadata": {},
   "outputs": [],
   "source": [
    "fi = cvModel.bestModel.featureImportances.values"
   ]
  },
  {
   "cell_type": "code",
   "execution_count": 142,
   "metadata": {},
   "outputs": [
    {
     "data": {
      "image/png": "[encoded data removed]",
      "text/plain": [
       "<Figure size 432x288 with 1 Axes>"
      ]
     },
     "metadata": {},
     "output_type": "display_data"
    }
   ],
   "source": [
    "sns.set_color_codes('pastel')\n",
    "y = np.arange(len(cols))\n",
    "sns.barplot(y=cols, x=fi, color = 'r')\n",
    "sns.despine();"
   ]
  },
  {
   "cell_type": "markdown",
   "metadata": {},
   "source": [
    "> `lifecycle` 占压倒性优势，其次是 `Thumb Down` 和 `Add to Playlist`，`gender` 和 `level` 影响最小"
   ]
  },
  {
   "cell_type": "markdown",
   "metadata": {},
   "source": [
    "# 结论分析\n",
    "- 根据前述情况可以看出，对用户流失影响最大的因素为 `lifecycle`，亦即注册时长，而一般猜测的因素如播放数量和时间、是否付费，以及社交频度等，虽然也是影响因素，相较之下并没有体现出想象中的影响力，尤其是性别和账户等级，影响力非常小。多数用户在2000小时左右就取消了服务。\n",
    "- 按照这一结论的话，我们应该在用户注册满2000小时左右就给他们提供优惠券。 \n",
    "\n",
    "### 局限\n",
    "- 而经过调参后的最优模型 Random Forest 得出的 F1-Score 0.790 并不是一个很好的结果，只比 Baseline 高出 16%。可能的原因是，参与分析的子集中一共只包含225个用户，这对训练来说可能是不够的。如果将最终模型运用到完整数据集中，应该能得到好的结果。\n",
    "\n",
    "- `Downgrade`应该是一个很重要的因素，但在此次特征分析中占比不算高，应该跟用户数太少有关系。而在完整数据集中针对所有 `Downgrade` 用户单独作分析，可能能够得到更有意义的结论。\n",
    "\n",
    "- 未取消服务的用户可能包括两种情况：重度用户和注册之后很少使用的用户，不区别这二者的话，可能会对我们的分析结果造成偏差。\n",
    "\n",
    "- 另外还可以考虑针对用户取消服务之前几天、几周内的行为作更精细化的分析，也许能够找出某些行为模式。\n",
    "\n",
    "### 项目总结\n",
    "- 此次项目涵盖了课程所学从数据清理、可视化分析、Spark、到机器学习的完整过程。课程前期的一些内容，到现在印象已经淡化，趁这个项目我进行了复习并进行了知识整合。\n",
    "- 与以前项目相比，本项目的一个特点是：花费在模型训练上的时间非常长。尤其在调参时，如果开始时选择的参数不佳，反复尝试更是花费成倍的时间，这也让我更直观地认识到数据质量、算法和模型选择对一个项目所需时间和资源的影响。\n",
    "\n",
    "### Github代码库\n",
    "https://github.com/liyapink/Sparkify/"
   ]
  },
  {
   "cell_type": "markdown",
   "metadata": {},
   "source": [
    "# 参考\n",
    "- https://blog.csdn.net/SunflowerLuck/article/details/\n",
    "- https://github.com/linpingyu/Sparkify"
   ]
  }
 ],
 "metadata": {
  "kernelspec": {
   "display_name": "Python 3",
   "language": "python",
   "name": "python3"
  },
  "language_info": {
   "codemirror_mode": {
    "name": "ipython",
    "version": 3
   },
   "file_extension": ".py",
   "mimetype": "text/x-python",
   "name": "python",
   "nbconvert_exporter": "python",
   "pygments_lexer": "ipython3",
   "version": "3.6.3"
  }
 },
 "nbformat": 4,
 "nbformat_minor": 2
}
